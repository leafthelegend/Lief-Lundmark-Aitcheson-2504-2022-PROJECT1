{
 "cells": [
  {
   "cell_type": "markdown",
   "metadata": {},
   "source": [
    "# MATH2504 Project 1 - 2022\n",
    "## Lief Lundmark-Aitcheson, s4703653\n",
    "[Github repo](https://github.com/leafthelegend/Lief-Lundmark-Aitcheson-2504-2022-PROJECT1)"
   ]
  },
  {
   "cell_type": "markdown",
   "metadata": {},
   "source": [
    "Dr. Maithili Mehta has been immersed in maths ever since she was a child. After completing a PhD in Mathematical Physics, her first job was at a medium-sized journey planning company, Opcom, where she had many different roles - software tester, engineer, team lead and support manager. Maithili was particularly interested in the journey planning algorithms, and found that although she had to learn many new languages and skills, her mathematical background allowed her to quickly understand how to construct an algorithm in various frameworks.\n",
    "\n",
    "Her second job was at a large mining company, Deswik, where she worked as a senior software engineer. This role was a lot more structured, and in some ways less flexible. Maithili primarily worked to develop the scheduling software and algorithms. Today, Maithili works at You. Smart. Thing., a small company focused on personalised journey planning. She says she enjoys the newer job more because there is more room for flexibility and innovation.\n",
    "\n",
    "Many of the challenges Maithili works with involve applying mathematical algorithms to ridiculously large datasets, often with specific constraints. Many of the assumptions that mathematicians make when developing graph algorithms break down when applied to the real world, which results in interesting mathematical and software problems. Maithili mentioned some interesting journey planning algorithms which attempt to tackle these problems which I hadn't heard of - namely RAPTOR and CSA.\n",
    "\n",
    "Something interesting which Maithili mentioned is that most software jobs are shifting towards full-stack development, as opposed to having separate front-end and back-end roles. I thought a good tip was that it's very important to be able to create a compelling prototype to communicate your ideas, particularly to non-mathematicians. In terms of back-end development, Maithili said that writing good object-oriented code is very useful for collaborative projects, since it allows for segmentation of responsibility without everyone having to fully understand everyone else's code. This is something that I've found to be very true when working on coding projects with others - particularly when developing the autonomous vehicle software for UQ racing. A well defined object-oriented framework makes a huge difference in productivity.\n",
    "\n",
    "Overall I found Maithili's discussion of the integration between the theoretical and practical aspects of software fascinating. I think sometimes it can feel like most of the algorithms for many problems have already been discovered and formalised, but in fact each specific application has constraints which can lead to algorithmic innovations. I find this aspect of software development really exciting.\n",
    "\n",
    "My question: \"Which new computer science ideas are you most excited about? Which concepts do you think will change the industry the most over the next decade?\""
   ]
  },
  {
   "cell_type": "code",
   "execution_count": 6,
   "metadata": {},
   "outputs": [],
   "source": [
    "include(\"poly_factorization_project.jl\");"
   ]
  },
  {
   "cell_type": "markdown",
   "metadata": {},
   "source": [
    "Example script: (the code shown is to test with PolynomialDense, but the first line can be changed to any other polynomial type, and all the examples will work the same)"
   ]
  },
  {
   "cell_type": "code",
   "execution_count": 10,
   "metadata": {},
   "outputs": [
    {
     "name": "stdout",
     "output_type": "stream",
     "text": [
      "We can create polynomials and perform arithmetic with them. Here we create two polynomials, p1 and p2:\n",
      "\n",
      "p1 = 2x^3+4x^2-3x\n",
      "p2 = 2x^4-4x^2-3x+3\n",
      "\n",
      "We can compute their sum and product, or integer powers:\n",
      "\n",
      "p1+p2 = 2x^4+2x^3-6x+3\n",
      "p1 × p2 = 4x^7+8x^6-14x^5-22x^4+6x^3+21x^2-9x\n",
      "p2^4 = 16x^16-128x^14-96x^13+480x^12+576x^11-872x^10-1584x^9+760x^8+2280x^7-120x^6-1944x^5-135x^4+972x^3+54x^2-324x+81\n",
      "\n",
      "We can also compute derivatives:\n",
      "\n",
      "d/dx p2 = 8x^3-8x-3\n",
      "d/dx (p1*p2) = 28x^6+48x^5-70x^4-88x^3+18x^2+42x-9\n",
      "\n",
      "If we work with polynomials over prime residue classes, we can perform polynomial division and factorisation.\n",
      "Consider the polynomial 7x^5+9x^4+11x^2+9x+1 (mod 17).\n",
      "We can factorise this as:\n",
      "(x+8)(x^2+2x+7)(x^2+x+1)(7)\n",
      "We can also go the opposite direction, and expand the factorised form.\n",
      "Expanded polynomial (mod 17) = 7x^5+9x^4+11x^2+9x+1\n",
      "\n",
      "We can use the extended euclidean algorithm to compute the GCD and Bezout coefficients of a pair of polynomials.\n",
      "Consider the following polynomials, p3 and p4 (mod 101):\n",
      "p3 = 99x^3+45x^2+77x+82\n",
      "p4 = 98x^4+39x^2+97x+15\n",
      "We can compute gcd(p3,p4) to be 89 (mod 101).\n",
      "The Bezout coefficients are then polynomials s and t such that s*p3 + t*p4 = 89.\n",
      "We compute these polynomials to be:\n",
      "s = 80x^3+10x^2+2x+86\n",
      "t = 14x^2+15x+61\n"
     ]
    }
   ],
   "source": [
    "x = x_poly(PolynomialDense) #change this to test with other polynomial types\n",
    "p1 = 2x^3 + 4x^2 - 3x\n",
    "p2 = 2x^4 - 4x^2 - 3x + 3\n",
    "\n",
    "println(\"We can create polynomials and perform arithmetic with them. Here we create two polynomials, p1 and p2:\\n\")\n",
    "\n",
    "println(\"p1 = $p1\")\n",
    "println(\"p2 = $p2\\n\")\n",
    "\n",
    "println(\"We can compute their sum and product, or integer powers:\\n\")\n",
    "\n",
    "println(\"p1+p2 = $(p1+p2)\")\n",
    "println(\"p1 × p2 = $(p1*p2)\")\n",
    "println(\"p2^4 = $(p2^4)\\n\")\n",
    "\n",
    "println(\"We can also compute derivatives:\\n\")\n",
    "\n",
    "println(\"d/dx p2 = $(derivative(p2))\")\n",
    "println(\"d/dx (p1*p2) = $(derivative(p1*p2))\\n\")\n",
    "\n",
    "println(\"If we work with polynomials over prime residue classes, we can perform polynomial division and factorisation.\")\n",
    "\n",
    "prime = 17\n",
    "p = mod((7x^3 + 2x^2 + 8x + 1)*(x^2+x+1),prime)\n",
    "\n",
    "println(\"Consider the polynomial $(p) (mod $prime).\")\n",
    "factorisation = factor(p,prime)\n",
    "println(\"We can factorise this as:\")\n",
    "print.(\"($(f[1]))$(f[2]>1 ? \"^$(f[1])\" : \"\")\" for f in factorisation)\n",
    "println()\n",
    "println(\"We can also go the opposite direction, and expand the factorised form.\")\n",
    "\n",
    "pr = mod(expand_factorization(factorisation),prime)\n",
    "println(\"Expanded polynomial (mod $prime) = \", pr, \"\\n\")\n",
    "println(\"We can use the extended euclidean algorithm to compute the GCD and Bezout coefficients of a pair of polynomials.\")\n",
    "\n",
    "p3 = 99x^3+45x^2+77x+82\n",
    "p4 = 98x^4+39x^2+97x+15\n",
    "println(\"Consider the following polynomials, p3 and p4 (mod 101):\")\n",
    "println(\"p3 = $p3\")\n",
    "println(\"p4 = $p4\")\n",
    "\n",
    "g,s,t = extended_euclid_alg(p3,p4,101)\n",
    "\n",
    "println(\"We can compute gcd(p3,p4) to be $g (mod 101).\")\n",
    "println(\"The Bezout coefficients are then polynomials s and t such that s*p3 + t*p4 = $g.\")\n",
    "println(\"We compute these polynomials to be:\")\n",
    "println(\"s = $s\")\n",
    "println(\"t = $t\")"
   ]
  },
  {
   "cell_type": "markdown",
   "metadata": {},
   "source": [
    "Basic unit tests (the output shown is for running the tests with `PolynomialSparse{BigInt}`):"
   ]
  },
  {
   "cell_type": "code",
   "execution_count": 11,
   "metadata": {},
   "outputs": [
    {
     "name": "stderr",
     "output_type": "stream",
     "text": [
      "\u001b[32m\u001b[1m  Activating\u001b[22m\u001b[39m project at `~/Desktop/Uni/Maths/MATH2504/Julia/Lief-Lundmark-Aitcheson-2504-2022-PROJECT1`\n"
     ]
    },
    {
     "name": "stdout",
     "output_type": "stream",
     "text": [
      "test_euclid_ints - PASSED\n",
      "test_ext_euclid_ints - PASSED\n",
      "prod_test_poly - PASSED\n",
      "prod_derivative_test_poly - PASSED\n",
      "ext_euclid_test_poly - PASSED\n",
      "division_test_poly - PASSED\n",
      "test_overflow - PASSED\n",
      "\n",
      "doing prime = 5 \t..........\n",
      "doing prime = 17 \t..........\n",
      "doing prime = 19 \t..........\n",
      "factor_test_poly - PASSED\n"
     ]
    }
   ],
   "source": [
    "include(\"test/runtests.jl\")"
   ]
  },
  {
   "cell_type": "markdown",
   "metadata": {},
   "source": [
    "## Pretty printing\n",
    "First, pretty printing for terms was implemented as follows. Note that there is an optional keyword argument which allows for printing of multiplication dots between the coefficient and the variable. I prefer the more compact appearance without it, so by default it is set to false"
   ]
  },
  {
   "cell_type": "code",
   "execution_count": 13,
   "metadata": {},
   "outputs": [
    {
     "name": "stdout",
     "output_type": "stream",
     "text": [
      "Term(-1, 1) = -x\n",
      "Term(-5, 3) = -5x^3\n",
      "Term(1, 4) = x^4\n"
     ]
    }
   ],
   "source": [
    "function show(io::IO, t::Term; cdot::Bool = false)\n",
    "    iszero(t.coeff) && return(print(io,\"0\"))\n",
    "    iszero(t.degree) && return(print(io,t.coeff))\n",
    "    print(io,abs(t.coeff) == 1 ? (t.coeff==1 ? \"\" : \"-\") : \"$(t.coeff)$(cdot ? \"⋅\" : \"\")\",(t.degree > 1 ? \"x^$(t.degree)\" : \"x\"))\n",
    "end\n",
    "\n",
    "#Examples\n",
    "@show Term(-1,1)\n",
    "@show Term(-5,3)\n",
    "@show Term(1,4)\n",
    "nothing"
   ]
  },
  {
   "cell_type": "markdown",
   "metadata": {},
   "source": [
    "Pretty printing for sparse and dense polynomials had to be implemented separately, notably because the terms are stored in opposite orders, and because we don't want to print \"packing\" terms in a dense polynomial:"
   ]
  },
  {
   "cell_type": "code",
   "execution_count": 14,
   "metadata": {},
   "outputs": [
    {
     "name": "stdout",
     "output_type": "stream",
     "text": [
      "((2 * x ^ 3 + 4 * x ^ 2) - 7x) + 1 = 2x^3+4x^2-7x+1\n",
      "-(x ^ 10) + x ^ 2 = -x^10+x^2\n",
      "((2 * x ^ 3 + 4 * x ^ 2) - 7x) + 1 = 2x^3+4x^2-7x+1\n",
      "-(x ^ 10) + x ^ 2 = -x^10+x^2\n"
     ]
    }
   ],
   "source": [
    "\"\"\"\n",
    "Show a dense polynomial.\n",
    "\"\"\"\n",
    "function show(io::IO, p::PolynomialDense)\n",
    "    if iszero(p)\n",
    "        print(io,\"0\")\n",
    "    else\n",
    "        n = length(p.terms)\n",
    "        for (i,t) in Iterators.reverse(enumerate(p.terms))\n",
    "            if !iszero(t)\n",
    "                print(io, i == n ? t : \"$(t.coeff>0 ? \"+\" : \"\")$(t)\")\n",
    "            end\n",
    "        end\n",
    "    end\n",
    "end\n",
    "\n",
    "\"\"\"\n",
    "Show a sparse polynomial.\n",
    "\"\"\"\n",
    "function show(io::IO, p::PolynomialSparse)\n",
    "    if iszero(p)\n",
    "        print(io,\"0\")\n",
    "    else\n",
    "        n = length(p.terms)\n",
    "        for (i,t) in enumerate(p.terms)\n",
    "                print(io, i == 1 ? t : \"$(t.coeff>0 ? \"+\" : \"\")$(t)\")\n",
    "        end\n",
    "    end\n",
    "end\n",
    "\n",
    "#Examples:\n",
    "x = x_poly(PolynomialDense)\n",
    "@show 2x^3+4x^2-7x+1\n",
    "@show -x^10+x^2\n",
    "x = x_poly(PolynomialSparse)\n",
    "@show 2x^3+4x^2-7x+1\n",
    "@show -x^10+x^2\n",
    "nothing"
   ]
  },
  {
   "cell_type": "markdown",
   "metadata": {},
   "source": [
    "## Implementing a sparse representation\n",
    "I created an abstract type `Polynomial`, of which `PolynomialDense` and `PolynomialSparse` are concrete subtypes. This allows a lot of code to be reused between the two types, since any method which does not explicitly depend on the ordering of the terms can be dispatched on the `Polynomial` type. polynomial.jl contains generic methods for the `Polynomial` abstract type. There are too many to fully list here, but some examples are given of methods which are independent of a dense or sparse representation:"
   ]
  },
  {
   "cell_type": "code",
   "execution_count": null,
   "metadata": {},
   "outputs": [],
   "source": [
    "##############################################\n",
    "# Iteration over the terms of the polynomial #\n",
    "##############################################\n",
    "\n",
    "\"\"\"\n",
    "Allows to do iteration over the non-zero terms of the polynomial. This implements the iteration interface.\n",
    "\"\"\"\n",
    "iterate(p::Polynomial, state=1) = iterate(p.terms, state)\n",
    "\n",
    "##############################\n",
    "# Queries about a polynomial #\n",
    "##############################\n",
    "\n",
    "\"\"\"\n",
    "The number of terms of the polynomial.\n",
    "\"\"\"\n",
    "length(p::Polynomial) = length(p.terms) \n",
    "\n",
    "\"\"\"\n",
    "Returns the coefficients of the polynomial.\n",
    "\"\"\"\n",
    "coeffs(p::Polynomial)::Vector{Integer} = [t.coeff for t in p]\n",
    "\n",
    "\"\"\"\n",
    "The degree of the polynomial.\n",
    "\"\"\"\n",
    "degree(p::Polynomial)::Integer = leading(p).degree \n",
    "\n",
    "\"\"\"\n",
    "The content of the polynomial is the GCD of its coefficients.\n",
    "\"\"\"\n",
    "content(p::Polynomial)::Integer = euclid_alg(coeffs(p))\n",
    "\n",
    "\"\"\"\n",
    "Evaluate the polynomial at a point `x`.\n",
    "\"\"\"\n",
    "evaluate(f::Polynomial, x::T) where T <: Number = sum(evaluate(t,x) for t in f)"
   ]
  },
  {
   "cell_type": "markdown",
   "metadata": {},
   "source": [
    "Some methods, however, involve creating a new polynomial. We cannot create an instance of an abstract type, so in this case the method needs to know which subtype to create. Often this can be inferred from the type of the input arguments, but in other cases (such as `x_poly`), we need to explicitly pass a type as a parameter. Some examples:"
   ]
  },
  {
   "cell_type": "code",
   "execution_count": null,
   "metadata": {},
   "outputs": [],
   "source": [
    "\"\"\"\n",
    "Construct a polynomial of the form x.\n",
    "\"\"\"\n",
    "x_poly(polyType::Type{<:Polynomial}) = polyType(Term(1,1))\n",
    "\n",
    "\"\"\"\n",
    "Creates the zero polynomial.\n",
    "\"\"\"\n",
    "zero(polyType::Type{<:Polynomial}) = polyType()\n",
    "zero(p::Polynomial) = zero(typeof(p)) #infer the type required\n",
    "\n",
    "\"\"\"\n",
    "Creates the unit polynomial.\n",
    "\"\"\"\n",
    "one(polyType::Type{<:Polynomial}) = polyType(one(Term))\n",
    "one(p::Polynomial) = one(typeof(p)) #infer the type required\n",
    "\n",
    "##These two methods return the same type as their input\n",
    "\n",
    "\"\"\"\n",
    "The negative of a polynomial.\n",
    "\"\"\"\n",
    "-(p::Polynomial) = typeof(p)(map((pt)->-pt, p.terms))\n",
    "\n",
    "\"\"\"\n",
    "Create a new polynomial which is the derivative of the polynomial.\n",
    "\"\"\"\n",
    "function derivative(p::Polynomial)::Polynomial\n",
    "    #make sure the output type matches the input type\n",
    "    der_p = zero(p)\n",
    "    for term in p\n",
    "        der_term = derivative(term)\n",
    "        !iszero(der_term) && push!(der_p,der_term)\n",
    "    end\n",
    "    return trim!(der_p)\n",
    "end\n"
   ]
  },
  {
   "cell_type": "markdown",
   "metadata": {},
   "source": [
    "### The `PolynomialSparse` Type\n",
    "The file polynomialSparse.jl implements the type `PolynomialSparse`. This type takes a parameter `T` which is the type of the coefficients. This will be discussed more in Task 3."
   ]
  },
  {
   "cell_type": "code",
   "execution_count": null,
   "metadata": {},
   "outputs": [],
   "source": [
    "struct PolynomialSparse{T<:Integer} <: Polynomial\n",
    "\n",
    "    #A vector of non-zero terms, in descending order\n",
    "    terms::Vector{Term{T}}\n",
    "\n",
    "    #Inner constructor of 0 polynomial\n",
    "    PolynomialSparse{T}() where {T<:Integer} = new{T}([])\n",
    "    PolynomialSparse() = new{Int}([])\n",
    "\n",
    "    #Inner constructor of polynomial based on arbitrary list of terms\n",
    "    function PolynomialSparse{T}(vt::Vector{Term{T}};sorting=true,filtering=true) where {T<:Integer}\n",
    "\n",
    "        #Remove zero terms\n",
    "        if filtering\n",
    "            vt = filter((t)->!iszero(t), vt)\n",
    "        end\n",
    "\n",
    "        #sort the terms in descending order of degree\n",
    "        if sorting\n",
    "            vt = sort(vt,by=t->t.degree,rev=true)\n",
    "        end\n",
    "        return new{T}(vt)\n",
    "    end\n",
    "end\n",
    "\n",
    "\"\"\"\n",
    "This function maintains the invariant of the PolynomialSparse type so that there are no zero terms.\n",
    "\"\"\"\n",
    "function trim!(p::PolynomialSparse)::PolynomialSparse\n",
    "    filter!((t)->!iszero(t), p.terms)\n",
    "    return p\n",
    "end\n",
    "\n",
    "\"\"\"\n",
    "Construct a sparse polynomial with a single term.\n",
    "\"\"\"\n",
    "PolynomialSparse{T}(t::Term) where {T<:Integer}= PolynomialSparse{T}([t])\n",
    "PolynomialSparse(t::Term) = PolynomialSparse([t])"
   ]
  },
  {
   "cell_type": "markdown",
   "metadata": {},
   "source": [
    "Note that for `PolynomialDense`, the zero polynomial consists of a single zero term, whereas for `PolynomialSparse`, the zero polynomial is an empty vector of terms. We thus have the following methods:"
   ]
  },
  {
   "cell_type": "code",
   "execution_count": null,
   "metadata": {},
   "outputs": [],
   "source": [
    "\"\"\"\n",
    "Check if the polynomial is zero.\n",
    "\"\"\"\n",
    "iszero(p::PolynomialSparse)::Bool = isempty(p.terms)\n",
    "\n",
    "\"\"\"\n",
    "The leading term of the polynomial.\n",
    "\"\"\"\n",
    "leading(p::PolynomialSparse)::Term = isempty(p.terms) ? zero(Term) : first(p.terms)"
   ]
  },
  {
   "cell_type": "markdown",
   "metadata": {},
   "source": [
    "Recall that we defined `x_poly(polyType::Type{<:Polynomial})` to take a polynomial type as a parameter. Thus in order to test the different polynomial types, it is as simple as replacing `x=x_poly(PolynomialDense)` with `x=x_poly(PolynomialSparse)`. Indeed, the unit tests now require a type as an input parameter. For example, the product test looks like:"
   ]
  },
  {
   "cell_type": "code",
   "execution_count": null,
   "metadata": {},
   "outputs": [],
   "source": [
    "\"\"\"\n",
    "Test product of polynomials.\n",
    "\"\"\"\n",
    "function prod_test_poly(T::Type{<:Polynomial};N::Int = 10^3, N_prods::Int = 20, seed::Int = 0, verbose::Bool = true)\n",
    "    Random.seed!(seed)\n",
    "    for _ in 1:N\n",
    "        p1 = rand(T)\n",
    "        p2 = rand(T)\n",
    "        prod = p1*p2\n",
    "        @assert leading(prod) == leading(p1)*leading(p2)\n",
    "    end\n",
    "\n",
    "    for _ in 1:N\n",
    "        if length(T.parameters)>0 #check for parametric type\n",
    "            p_base = T(Term{T.parameters[1]}(1,0))\n",
    "        else\n",
    "            p_base = T(Term(1,0))\n",
    "        end\n",
    "        for _ in 1:N_prods\n",
    "            p = rand(T)\n",
    "            prod = p_base*p\n",
    "            @assert leading(prod) == leading(p_base)*leading(p)\n",
    "            p_base = prod\n",
    "        end\n",
    "    end\n",
    "    verbose && println(\"prod_test_poly - PASSED\")\n",
    "    nothing\n",
    "end"
   ]
  },
  {
   "cell_type": "markdown",
   "metadata": {},
   "source": [
    "Notice how `rand(T)` takes a polynomial type as an input - this ensures that the generated polynomials are of the type we want to test. The script runtests.jl contains a global variable `polyType`, which is the type to test. Therefore by changing one line of code we can test any type of polynomial. Both types of polynomial pass all the unit tests.\n",
    "example_script.jl demonstrates `PolynomialDense`, and example_script2.jl demonstrates `PolynomialSparse`. The scripts are identical, except for the line of code which defines `x`:\n",
    "\n",
    "example_script.jl:\n",
    "\n",
    "`x = x_poly(PolynomialDense)`\n",
    "\n",
    "example_script2.jl\n",
    "\n",
    "`x = x_poly(PolynomialSparse)`\n",
    "\n",
    "The scripts provide identical output, confirming that both types work as expected."
   ]
  },
  {
   "cell_type": "markdown",
   "metadata": {},
   "source": [
    "The dense representation has advantages when adding terms, since if we wish to add a term of a particular degree, we know exactly which position in the vector it should go. However, for the sparse representation, we need to iterate over the terms in order to determine whether a term of matching degree already exists, or otherwise where to insert the new term. Inserting a term in the middle of an array is also relatively slow compared to changing a single element of the array, since inserting a term requires shifting everything behind it back. However, with the dense representation, we are guaranteed to only ever need to change a single element within the existing array, or otherwise append some amount of zeros to the end of an array (the performance of this operation will vary depending on how much space julia has pre-allocated for the array).\n",
    "\n",
    "However, operations which require iteration over the non-zero terms of a polynomial (such as determining the content, or taking the mod), will be faster with the sparse representation, since the dense representation needs to check each element to determine whether it is zero or not.\n",
    "\n",
    "The main drawback of the dense representation is memory usage. For example, if we wish to represent the cyclotonic polynomial $x^{101}-x$, then the dense representation requires an array of size 102, whereas the sparse representation only needs an array of size 2. Thus, operations like factorisation which often involve large powers of x will require far less memory with the sparse representation."
   ]
  },
  {
   "cell_type": "markdown",
   "metadata": {},
   "source": [
    "## Refactoring the coefficient type\n",
    "I first changed the `Term` type to be parametric - i.e. it takes a parameter `T<:Integer` which describes the type of the coefficients. This required modifying the constructor and some of the default methods for creating terms. Note that the external constructor is implemented such that it can extract the type of the coefficient parameter, and create a term of the correct type."
   ]
  },
  {
   "cell_type": "code",
   "execution_count": null,
   "metadata": {},
   "outputs": [],
   "source": [
    "struct Term{T<:Integer}\n",
    "    coeff::T\n",
    "    degree::Int\n",
    "    function Term{T}(coeff::Integer, degree::Int) where {T<:Integer}\n",
    "        degree < 0 && error(\"Degree must be non-negative\")\n",
    "        coeff != 0 ? new{T}(coeff,degree) : new{T}(coeff,0)\n",
    "    end\n",
    "end\n",
    "\n",
    "Term(coeff::T,degree::Int) where {T<:Integer} = Term{T}(coeff,degree)\n",
    "\n",
    "\"\"\"\n",
    "Creates the zero term.\n",
    "\"\"\"\n",
    "zero(::Type{<:Term{T}}) where {T} = Term{T}(0,0)\n",
    "zero(::Type{Term}) = Term(0,0) #default to Int\n",
    "\n",
    "\"\"\"\n",
    "Creates the unit term.\n",
    "\"\"\"\n",
    "one(::Type{<:Term{T}}) where {T} = Term{T}(1,0)\n",
    "one(::Type{Term}) = Term(1,0) #default to Int"
   ]
  },
  {
   "cell_type": "markdown",
   "metadata": {},
   "source": [
    "The rest of the methods for `Term` remained mostly the same. However, some integer algorithms needed to be changed from taking a parameter of type `Int64` to accept a parameter of any subtype of `Integer`. Now, when the `PolynomialSparse` constructor is called with a type parameter `T`, the terms in that polynomial will have coefficient type `T` (this type can also be inferred from the type of the terms in the input vector). The type defaults to `Int64`."
   ]
  },
  {
   "cell_type": "code",
   "execution_count": null,
   "metadata": {},
   "outputs": [],
   "source": [
    "struct PolynomialSparse{T<:Integer} <: Polynomial\n",
    "\n",
    "    #A vector of non-zero terms, in descending order\n",
    "    terms::Vector{Term{T}}\n",
    "\n",
    "    #Inner constructor of 0 polynomial\n",
    "    PolynomialSparse{T}() where {T<:Integer} = new{T}([])\n",
    "    PolynomialSparse() = new{Int}([])\n",
    "\n",
    "    #Inner constructor of polynomial based on arbitrary list of terms\n",
    "    function PolynomialSparse{T}(vt::Vector{Term{T}};sorting=true,filtering=true) where {T<:Integer}\n",
    "\n",
    "        #Remove zero terms\n",
    "        if filtering\n",
    "            vt = filter((t)->!iszero(t), vt)\n",
    "        end\n",
    "\n",
    "        #sort the terms in descending order of degree\n",
    "        if sorting\n",
    "            vt = sort(vt,by=t->t.degree,rev=true)\n",
    "        end\n",
    "        return new{T}(vt)\n",
    "    end\n",
    "end\n",
    "\n",
    "#alias\n",
    "const PolynomialSparseBI = PolynomialSparse{BigInt}"
   ]
  },
  {
   "cell_type": "markdown",
   "metadata": {},
   "source": [
    "We also create a type alias, `PolynomialSparseBI`, which can be used instead of typing `PolynomialSparse{BigInt}`. Note that this implementation is not restricted to just `Int64` or `BigInt`; indeed, polynomials can be created with any integer coefficient type, such as `Int32` or `Int128`. "
   ]
  },
  {
   "cell_type": "markdown",
   "metadata": {},
   "source": [
    "The key advantage of using `BigInt` coefficients is that they do not overflow, whereas regular `Int64` coefficients cannot represent a value larger than `typemax(Int64) = 2^63-1`. In order to demonstrate this, I added a new unit test, `test_overflow`, which repeatedly doubles the constant polynomial 2, until an overflow occurs or it exceeds a pre-determined threshold. The largest integer that can be represented using primitive types in Julia is `typemax(UInt128) = 2^128-1`, so we need only test up until `2^128`."
   ]
  },
  {
   "cell_type": "code",
   "execution_count": 17,
   "metadata": {},
   "outputs": [
    {
     "name": "stdout",
     "output_type": "stream",
     "text": [
      "test_overflow - PASSED\n"
     ]
    },
    {
     "ename": "LoadError",
     "evalue": "AssertionError: (leading(newRes)).coeff > (leading(res)).coeff",
     "output_type": "error",
     "traceback": [
      "AssertionError: (leading(newRes)).coeff > (leading(res)).coeff",
      "",
      "Stacktrace:",
      " [1] test_overflow(T::Type{PolynomialSparse{UInt128}}; n::Int64)",
      "   @ Main ./In[17]:6",
      " [2] test_overflow(T::Type{PolynomialSparse{UInt128}})",
      "   @ Main ./In[17]:2",
      " [3] top-level scope",
      "   @ In[17]:13",
      " [4] eval",
      "   @ ./boot.jl:373 [inlined]",
      " [5] include_string(mapexpr::typeof(REPL.softscope), mod::Module, code::String, filename::String)",
      "   @ Base ./loading.jl:1196"
     ]
    }
   ],
   "source": [
    "function test_overflow(T::Type{<:Polynomial};n::Int=128) #n=128 will overflow for all Julia's primitive integer types\n",
    "    p = 2*one(T)\n",
    "    res = one(T)\n",
    "    for _ in 1:n\n",
    "        newRes = res*p\n",
    "        @assert leading(newRes).coeff > leading(res).coeff\n",
    "        res = newRes\n",
    "    end\n",
    "    println(\"test_overflow - PASSED\")\n",
    "end\n",
    "\n",
    "test_overflow(PolynomialSparse{BigInt})\n",
    "test_overflow(PolynomialSparse{UInt128})#fails\n",
    "test_overflow(PolynomialSparse{Int64})#fails\n"
   ]
  },
  {
   "cell_type": "markdown",
   "metadata": {},
   "source": [
    "Note that by default, the `prod_test_poly()` unit test will usually overflow, since it performs 20 repeated products. By default the largest coefficient generated by `rand(PolynomialSparse)` is 100, so we can expect maximum coefficients on the order of 100^20. (Technically we should also account for the length of the polynomial - by default `rand` generates polynomials with degrees following a Poisson distribution with mean 5, so realistically we could see maximum coefficients of up to 9*100^20 or even higher (this is unlikely because the actual number of terms is binomially distributed with probability 0.7 of getting a term of a certain degree)).\n",
    "\n",
    "When comparing the runtime performance, we would like to ensure that `PolynomialSparse{Int64}` does not overflow, so we run `prod_test_poly` with `N_prods=9`, because $100^{10}$ overflows in `Int64` whereas $9\\times 100^9$ does not. The following code demonstrates that BigInt coefficients are about 60x slower at polynomial multiplication (when running the prod_test_poly test suite) - 364 ms vs 23.1 s.\n",
    "\n",
    "Note that when benchmarking with `@btime` it is good to set verbose to false, since otherwise the output becomes cluttered from multiple repetitions."
   ]
  },
  {
   "cell_type": "code",
   "execution_count": 4,
   "metadata": {},
   "outputs": [
    {
     "name": "stdout",
     "output_type": "stream",
     "text": [
      "  364.612 ms (5945444 allocations: 1.01 GiB)\n",
      "  23.109 s (103878130 allocations: 4.43 GiB)\n"
     ]
    },
    {
     "data": {
      "text/plain": [
       "false"
      ]
     },
     "execution_count": 4,
     "metadata": {},
     "output_type": "execute_result"
    }
   ],
   "source": [
    "include(\"test/polynomials_test.jl\")\n",
    "\n",
    "using BenchmarkTools\n",
    "\n",
    "@btime prod_test_poly(PolynomialSparse{Int64},N_prods=9,verbose=false)\n",
    "\n",
    "@btime prod_test_poly(PolynomialSparse{BigInt},N_prods=9,verbose=false)"
   ]
  },
  {
   "cell_type": "markdown",
   "metadata": {},
   "source": [
    "## The `PolynomialModP` type\n",
    "\n",
    "`PolynomialModP` is implemented as a struct which wraps a `PolynomialSparse` and an integer modulus. Note that the constructor automatically reduces all coefficients modulo p."
   ]
  },
  {
   "cell_type": "code",
   "execution_count": null,
   "metadata": {},
   "outputs": [],
   "source": [
    "struct PolynomialModP\n",
    "    polynomial::Polynomial\n",
    "    p::Integer\n",
    "\n",
    "    function PolynomialModP(polynomial::Polynomial,p::Integer;reducing=true)\n",
    "        if reducing\n",
    "            return new(mod(polynomial,p),p)\n",
    "        else\n",
    "            return new(polynomial,p)\n",
    "        end\n",
    "    end\n",
    "end\n",
    "\n",
    "#inplace polynomial mod\n",
    "function mod!(f::Polynomial, p::Integer)::Polynomial\n",
    "    for i in 1:length(f.terms)\n",
    "        f.terms[i] = mod(f.terms[i], p)\n",
    "    end\n",
    "    return trim!(f)\n",
    "end\n",
    "\n",
    "function reduce!(polynomial::PolynomialModP)::PolynomialModP\n",
    "    mod!(polynomial.polynomial, polynomial.p)\n",
    "    return polynomial\n",
    "end\n",
    "\n",
    "#display\n",
    "function show(io::IO,p::PolynomialModP)\n",
    "    show(io,p.polynomial)\n",
    "    print(io,\" (mod $(p.p))\")\n",
    "end"
   ]
  },
  {
   "cell_type": "markdown",
   "metadata": {},
   "source": [
    "We also implement an inplace method `reduce!`, which ensures all terms remain modulo p (although this method is mostly unused), and a show function which displays the polynomial along with an annotation '(mod p)'. In order to work nicely with these new objects, it is convenient if `PolynomialModP` exposes most of the same arithmetic methods as `PolynomialSparse`, along with certain utility functions (often we need to check that the moduli match):"
   ]
  },
  {
   "cell_type": "code",
   "execution_count": null,
   "metadata": {},
   "outputs": [],
   "source": [
    "#add a polynomialModP and a term:\n",
    "+(p::PolynomialModP, t::Term)::PolynomialModP = PolynomialModP(p.polynomial+t,p.p)\n",
    "\n",
    "+(t::Term,p::PolynomialModP) = p + t\n",
    "\n",
    "#add a polynomialModP and a polynomial:\n",
    "+(pm::PolynomialModP, p::Polynomial)::PolynomialModP = PolynomialModP(pm.polynomial+p,pm.p)\n",
    "\n",
    "+(p::Polynomial,pm::PolynomialModP) = pm + p\n",
    "\n",
    "#add a polynomialModP and an integer:\n",
    "+(p::PolynomialModP, n::Integer)::PolynomialModP = PolynomialModP(p.polynomial+n,p.p)\n",
    "\n",
    "+(n::Integer,p::PolynomialModP) = p + n\n",
    "\n",
    "#add two polynomialModPs:\n",
    "function +(p1::PolynomialModP,p2::PolynomialModP)::PolynomialModP\n",
    "    @assert p1.p == p2.p\n",
    "    return PolynomialModP(p1.polynomial+p2.polynomial,p1.p)\n",
    "end\n",
    "\n",
    "#take the negative of a polynomialModP: #note - why does this not work with a return type annotation???\n",
    "-(p::PolynomialModP) = PolynomialModP(-p.polynomial,p.p)\n",
    "\n",
    "#Subtraction\n",
    "-(p1::PolynomialModP,p2::PolynomialModP)::PolynomialModP = p1 + (-p2)\n",
    "\n",
    "-(p1::PolynomialModP,p::Polynomial)::PolynomialModP = p1 + (-p)\n",
    "\n",
    "-(p::Polynomial,p1::PolynomialModP)::PolynomialModP = p + (-p1)\n",
    "\n",
    "-(p1::PolynomialModP,t::Term)::PolynomialModP = p1 + (-t)\n",
    "\n",
    "-(t::Term,p1::PolynomialModP)::PolynomialModP = t + (-p1)\n",
    "\n",
    "-(p1::PolynomialModP,n::Integer)::PolynomialModP = p1 + (-n)\n",
    "\n",
    "-(n::Integer,p1::PolynomialModP)::PolynomialModP = n + (-p1)\n",
    "\n",
    "#multiplication\n",
    "\n",
    "#multiply a polynomialModP and a term:\n",
    "*(p::PolynomialModP, t::Term)::PolynomialModP = PolynomialModP(p.polynomial*t,p.p)\n",
    "\n",
    "*(t::Term,p::PolynomialModP) = p * t\n",
    "\n",
    "#multiply a polynomialModP and a polynomial:\n",
    "*(pm::PolynomialModP, p::Polynomial)::PolynomialModP = PolynomialModP(pm.polynomial*p,pm.p)\n",
    "\n",
    "*(p::Polynomial,pm::PolynomialModP) = pm * p\n",
    "\n",
    "#multiply a polynomialModP and an integer:\n",
    "*(p::PolynomialModP, n::Integer)::PolynomialModP = PolynomialModP(p.polynomial*n,p.p)\n",
    "\n",
    "*(n::Integer,p::PolynomialModP) = p * n\n",
    "\n",
    "#multiply two polynomialModPs:\n",
    "function *(p1::PolynomialModP,p2::PolynomialModP)::PolynomialModP\n",
    "    @assert p1.p == p2.p\n",
    "    return PolynomialModP(p1.polynomial*p2.polynomial,p1.p)\n",
    "end\n",
    "\n",
    "#exponentiation - this is later replaced by repeated squaring\n",
    "function ^(p::PolynomialModP,n::Integer)::PolynomialModP\n",
    "    n < 0 && error(\"No negative power\")\n",
    "    out = p\n",
    "    for _ in 1:n-1\n",
    "        out *=p\n",
    "    end\n",
    "    return out\n",
    "end\n",
    "\n",
    "#boolean methods:\n",
    "==(p1::PolynomialModP,p2::PolynomialModP) = p1.p == p2.p && p1.polynomial == p2.polynomial \n",
    "\n",
    "iszero(p::PolynomialModP) = iszero(p.polynomial)\n",
    "\n",
    "==(p::PolynomialModP, n::Integer) = iszero(p - n)\n",
    "\n",
    "#creation\n",
    "zero(p::PolynomialModP) = PolynomialModP(zero(p.polynomial),p.p)\n",
    "one(p::PolynomialModP) = PolynomialModP(one(p.polynomial),p.p)\n",
    "x_poly(p::PolynomialModP) = PolynomialModP(x_poly(typeof(p.polynomial)),p.p)\n",
    "x_poly_modp(polyType::Type{<:Polynomial},p::Int) = PolynomialModP(x_poly(polyType),p)\n",
    "copyTerms(p::PolynomialModP) = PolynomialModP(copyTerms(p.polynomial),p.p,reducing=false)\n",
    "rand_modp(polyType::Type{<:Polynomial},p::Int;kwargs...) = PolynomialModP(rand(polyType;kwargs...),p)\n",
    "\n",
    "#queries\n",
    "degree(p::PolynomialModP) = degree(p.polynomial)\n",
    "leading(p::PolynomialModP) = leading(p.polynomial)"
   ]
  },
  {
   "cell_type": "code",
   "execution_count": 22,
   "metadata": {},
   "outputs": [
    {
     "name": "stdout",
     "output_type": "stream",
     "text": [
      "p = 2x^7+13x^3+1 (mod 17)\n",
      "q = 14x^6+5x^2 (mod 17)\n",
      "p + q = 2x^7+14x^6+13x^3+5x^2+1 (mod 17)\n",
      "p ^ 2 * q = 5x^20+5x^13+8x^12+10x^9+12x^8+14x^6+11x^5+5x^2 (mod 17)\n",
      "2p - 4q = 4x^7+12x^6+9x^3+14x^2+2 (mod 17)\n"
     ]
    }
   ],
   "source": [
    "#Examples\n",
    "\n",
    "x = PolynomialModP(x_poly(PolynomialSparse),17)\n",
    "\n",
    "p = 19x^7-4x^3+18\n",
    "@show p\n",
    "\n",
    "q = derivative(p)\n",
    "@show q\n",
    "\n",
    "@show p+q\n",
    "@show p^2*q\n",
    "@show 2p-4q\n",
    "nothing\n"
   ]
  },
  {
   "cell_type": "markdown",
   "metadata": {},
   "source": [
    "Certain operations rely on arithmetic in $\\mathbb{Z}_p$, so it is easier to perform these with `PolynomialModP`:"
   ]
  },
  {
   "cell_type": "code",
   "execution_count": null,
   "metadata": {},
   "outputs": [],
   "source": [
    "#divide a polynomialModP by an integer:\n",
    "÷(p::PolynomialModP, n::Integer)::PolynomialModP = PolynomialModP((p.polynomial÷n)(p.p),p.p)\n",
    "\n",
    "#divide two polynomialModPs:\n",
    "\n",
    "function divide(num::PolynomialModP, den::PolynomialModP)\n",
    "    @assert num.p == den.p\n",
    "    return PolynomialModP.(divide(num.polynomial,den.polynomial)(num.p),num.p)\n",
    "end\n",
    "\n",
    "function ÷(num::PolynomialModP, den::PolynomialModP)::PolynomialModP\n",
    "    @assert num.p == den.p\n",
    "    return PolynomialModP((num.polynomial÷den.polynomial)(num.p),num.p)\n",
    "end\n",
    "\n",
    "function rem(num::PolynomialModP, den::PolynomialModP)::PolynomialModP\n",
    "    @assert num.p == den.p\n",
    "    return PolynomialModP(rem(num.polynomial,den.polynomial)(num.p),num.p)\n",
    "end\n",
    "\n",
    "#gcd of two polynomialModPs:\n",
    "function gcd(a::PolynomialModP, b::PolynomialModP)::PolynomialModP\n",
    "    @assert a.p == b.p\n",
    "    return PolynomialModP(gcd(a.polynomial,b.polynomial,a.p),a.p)\n",
    "end"
   ]
  },
  {
   "cell_type": "code",
   "execution_count": 23,
   "metadata": {},
   "outputs": [
    {
     "name": "stdout",
     "output_type": "stream",
     "text": [
      "p ÷ 4 = 9x^7+16x^3+13 (mod 17)\n",
      "p ÷ q = 5x (mod 17)\n",
      "rem(p, q) = 5x^3+1 (mod 17)\n",
      "gcd(p, q) = 11x+1 (mod 17)\n"
     ]
    }
   ],
   "source": [
    "#Examples\n",
    "\n",
    "x = PolynomialModP(x_poly(PolynomialSparse),17)\n",
    "\n",
    "p = 19x^7-4x^3+18\n",
    "q = derivative(p)\n",
    "@show p÷4\n",
    "@show p÷q\n",
    "@show rem(p,q)\n",
    "@show gcd(p,q)\n",
    "nothing"
   ]
  },
  {
   "cell_type": "markdown",
   "metadata": {},
   "source": [
    "We also update `pow_mod` to use `PolynomialModP`:"
   ]
  },
  {
   "cell_type": "code",
   "execution_count": null,
   "metadata": {},
   "outputs": [],
   "source": [
    "function pow_mod(p::Polynomial, n::Integer, prime::Integer)\n",
    "    out = PolynomialModP(p,prime)\n",
    "    return (out^n).polynomial\n",
    "end"
   ]
  },
  {
   "cell_type": "markdown",
   "metadata": {},
   "source": [
    "We can create unit tests for `PolynomialModP` which are analogous to those for `PolynomialSparse`, using a random prime as the modulus:"
   ]
  },
  {
   "cell_type": "code",
   "execution_count": null,
   "metadata": {},
   "outputs": [],
   "source": [
    "using Primes\n",
    "\n",
    "\"\"\"\n",
    "Test product of polynomials.\n",
    "\"\"\"\n",
    "function prod_test_polyModP(T::Type{<:Polynomial};N::Int = 10^3, N_prods::Int = 20, seed::Int = 0, maxPrime::Int = 50, verbose::Bool = true)\n",
    "    Random.seed!(seed)\n",
    "    primes = Primes.primes(maxPrime)\n",
    "\n",
    "    for _ in 1:N\n",
    "        prime = Random.rand(primes)\n",
    "        p1 = PolynomialModP(rand(T),prime)\n",
    "        p2 = PolynomialModP(rand(T),prime)\n",
    "        prod = p1*p2\n",
    "        @assert leading(prod.polynomial) == mod((leading(p1.polynomial)*leading(p2.polynomial)),prime)\n",
    "    end\n",
    "\n",
    "    for _ in 1:N\n",
    "        prime = Random.rand(primes)\n",
    "        if length(T.parameters)>0\n",
    "            p_base = T(Term{T.parameters[1]}(1,0))\n",
    "        else\n",
    "            p_base = T(Term(1,0))\n",
    "        end\n",
    "        p_base = PolynomialModP(p_base,prime)\n",
    "        for _ in 1:N_prods\n",
    "            p = rand(T)\n",
    "            prod = p_base*PolynomialModP(p,prime)\n",
    "            #we must also handle the case where the leading term is zero mod p, so the first part of this assertion will fail\n",
    "            @assert leading(prod.polynomial) == mod((leading(p_base.polynomial)*leading(p)),prime) || iszero(mod((leading(p_base.polynomial)*leading(p)),prime))\n",
    "            p_base = prod\n",
    "        end\n",
    "    end\n",
    "    verbose && println(\"prod_test_polyModP - PASSED\")\n",
    "    nothing\n",
    "end\n",
    "\n",
    "\"\"\"\n",
    "Test division of polynomials modulo p.\n",
    "\"\"\"\n",
    "function division_test_polyModP(T::Type{<:Polynomial}; N::Int = 10^4, seed::Int = 0, maxPrime::Int=50, verbose::Bool=true)\n",
    "    Random.seed!(seed)\n",
    "    primes = Primes.primes(maxPrime)\n",
    "    \n",
    "    for _ in 1:N\n",
    "        prime = Random.rand(primes)\n",
    "        p1 = PolynomialModP(rand(T),prime)\n",
    "        p2 = PolynomialModP(rand(T),prime)\n",
    "        p_prod = p1*p2\n",
    "        q, r = PolynomialModP(T(),prime), PolynomialModP(T(),prime)\n",
    "        try\n",
    "            q, r = divide(p_prod, p2)\n",
    "            if (q.polynomial, r.polynomial) == (nothing,nothing)\n",
    "                verbose && println(\"Unlucky prime: numerator is $p1, denominator is $p2\")\n",
    "                continue\n",
    "            end\n",
    "        catch e\n",
    "            if typeof(e) == DivideError\n",
    "                @assert p2 == 0\n",
    "            else\n",
    "                throw(e)\n",
    "            end\n",
    "        end\n",
    "        @assert iszero(q*p2+r - p_prod)\n",
    "    end\n",
    "    verbose && println(\"division_test_polyModP - PASSED\")\n",
    "end\n",
    "\n",
    "\"\"\"\n",
    "Test factorization of polynomials mod p.\n",
    "\"\"\"\n",
    "function factor_test_polyModP(T::Type{<:Polynomial};N::Int = 10, seed::Int = 0, primes::Vector{Int} = [5,17,19], verbose::Bool=true)\n",
    "    Random.seed!(seed)\n",
    "    for prime in primes\n",
    "        verbose && print(\"\\ndoing prime = $prime \\t\")\n",
    "        for _ in 1:N\n",
    "            verbose && print(\".\")\n",
    "            p = PolynomialModP(rand(T),prime)\n",
    "            factorization = factor(p)\n",
    "            pr = expand_factorization(factorization)\n",
    "            @assert p == pr\n",
    "        end\n",
    "    end\n",
    "\n",
    "    println(\"\\nfactor_test_polyModP - PASSED\")\n",
    "end"
   ]
  },
  {
   "cell_type": "markdown",
   "metadata": {},
   "source": [
    "These tests can be run with the script run_polyModP_test.jl:"
   ]
  },
  {
   "cell_type": "code",
   "execution_count": 24,
   "metadata": {},
   "outputs": [
    {
     "name": "stderr",
     "output_type": "stream",
     "text": [
      "\u001b[32m\u001b[1m  Activating\u001b[22m\u001b[39m project at `~/Desktop/Uni/Maths/MATH2504/Julia/Lief-Lundmark-Aitcheson-2504-2022-PROJECT1`\n"
     ]
    },
    {
     "name": "stdout",
     "output_type": "stream",
     "text": [
      "prod_test_polyModP - PASSED\n",
      "division_test_polyModP - PASSED\n",
      "\n",
      "doing prime = 5 \t..........\n",
      "doing prime = 17 \t..........\n",
      "doing prime = 19 \t..........\n",
      "factor_test_polyModP - PASSED\n"
     ]
    }
   ],
   "source": [
    "include(\"test/run_polyModP_test.jl\")"
   ]
  },
  {
   "cell_type": "markdown",
   "metadata": {},
   "source": [
    "## Multiplication using CRT\n",
    "\n",
    "My original approach for creating a CRT multiplication algorithm was to compute all the remainders beforehand, storing them in a vector, and then pass all the remainders at once into a CRT function to compute the result. This approach worked (and is contained in crt_multiplication.jl), but storing all the remainders simultaneously required a lot of memory. I imagine this method would be useful for implementing multi-threaded polynomial multiplication, since the remainders can be computed on independent threads.\n",
    "\n",
    "My second implementation performs CRT as it goes, at each step ensuring that the result satisfies the remainder conditions for each prime. The key ingredient for this method is a CRT function which works on a pair of polynomials and a pair of primes:"
   ]
  },
  {
   "cell_type": "code",
   "execution_count": null,
   "metadata": {},
   "outputs": [],
   "source": [
    "function CRT(a::Polynomial,b::Polynomial,p1::Integer,p2::Integer)::Polynomial\n",
    "    T = typeof(a)\n",
    "    v1 = copyTerms(a)\n",
    "    v2 = b-v1\n",
    "    v2*=int_inverse_mod(p1,p2)\n",
    "    v2 = mod!(v2,p2)\n",
    "    p=add!(v1,v2*p1)\n",
    "    @assert mod(p,p1)==a && mod(p,p2)==b\n",
    "    return p\n",
    "end"
   ]
  },
  {
   "cell_type": "markdown",
   "metadata": {},
   "source": [
    "This version is much simpler than the generalised CRT function, which can work for any number of remainder polynomials:"
   ]
  },
  {
   "cell_type": "code",
   "execution_count": null,
   "metadata": {},
   "outputs": [],
   "source": [
    "function CRT(u::Vector{PolynomialModP})::Polynomial\n",
    "    T = typeof(u[1].polynomial)\n",
    "    primes = [p.p for p in u]\n",
    "    #ensure there are no duplicate primes\n",
    "    @assert length(unique(primes)) == length(primes)\n",
    "    terms = zeros(T,length(u))\n",
    "    products = ones(BigInt,length(u))\n",
    "    primeProduct = big(1)\n",
    "    subtractor = zero(T)\n",
    "    for i in 1:length(u)\n",
    "        v = copyTerms(u[i].polynomial)\n",
    "        v = add!(v, -subtractor)\n",
    "        v *= int_inverse_mod(primeProduct,primes[i])\n",
    "        v = mod!(v,primes[i])\n",
    "        subtractor = add!(subtractor,v*primeProduct)\n",
    "        terms[i] = v\n",
    "        products[i] = primeProduct\n",
    "        primeProduct *= primes[i]\n",
    "    end\n",
    "    p = sum(terms.*products)\n",
    "    @assert mod.(Ref(p),primes) == [pm.polynomial for pm in u]\n",
    "    return p\n",
    "end"
   ]
  },
  {
   "cell_type": "markdown",
   "metadata": {},
   "source": [
    "The key idea with CRT multiplication is that by performing multiplications modulo p for various primes p, we can work with much smaller coefficients, allowing us to use `Int64` multiplication rather than `BigInt` multiplication - which as seen previously is up to 60x faster. The tradeoff is that we have to do more multiplications, as we need multiple primes to reconstruct the final result. \n",
    "\n",
    "However, there is not much point reducing the polynomials if we are not going to take advantage of `Int64` arithmetic! We therefore require a set of utility functions to convert to and from `Int64` and `BigInt` polynomials:"
   ]
  },
  {
   "cell_type": "code",
   "execution_count": null,
   "metadata": {},
   "outputs": [],
   "source": [
    "#convert to and from BigInt and Int64 polynomials\n",
    "\n",
    "smallTerm(t::Term{BigInt})::Term{Int64} = Term{Int64}(Int64(t.coeff),t.degree)\n",
    "smallPoly(p::PolynomialSparse{BigInt})::PolynomialSparse{Int64} = PolynomialSparse{Int64}(smallTerm.(p.terms))\n",
    "\n",
    "bigTerm(t::Term{Int64})::Term{BigInt} = Term{BigInt}(BigInt(t.coeff),t.degree)\n",
    "bigPoly(p::PolynomialSparse{Int64})::PolynomialSparse{BigInt} = PolynomialSparse{BigInt}(bigTerm.(p.terms))\n",
    "\n",
    "smallPoly(p::PolynomialModP)::PolynomialModP = PolynomialModP(smallPoly(p.polynomial),p.p)\n",
    "bigPoly(p::PolynomialModP)::PolynomialModP = PolynomialModP(bigPoly(p.polynomial),p.p)"
   ]
  },
  {
   "cell_type": "markdown",
   "metadata": {},
   "source": [
    "We can now construct the body of the algorithm, looping over primes until we have enough information to reconstruct the entire product:"
   ]
  },
  {
   "cell_type": "code",
   "execution_count": null,
   "metadata": {},
   "outputs": [],
   "source": [
    "function crt_multiply(p::PolynomialSparse{BigInt},q::PolynomialSparse{BigInt})\n",
    "    \n",
    "    if iszero(p) || iszero(q)\n",
    "        return zero(p)\n",
    "    end\n",
    "\n",
    "    height = 2*max(abs.(coeffs(p))...)*max(abs.(coeffs(q))...)*min(length(p),length(q))\n",
    "\n",
    "    #we need to find the largest prime that is guaranteed to not overflow when multiplying these polynomials\n",
    "    #i.e. we should have height(p*q)<2^63 : 2*p^2*min(length(p),length(q))<2^63 : p < sqrt(2^62/min(length(p),length(q))))\n",
    "\n",
    "    maxAllowedPrime = floor(Int64,sqrt(2^62/min(length(p),length(q))))\n",
    "\n",
    "    prime::Int = Primes.prevprime(maxAllowedPrime)\n",
    "    M=big(prime)\n",
    "    c = bigPoly((smallPoly(PolynomialModP(p,prime))*smallPoly(PolynomialModP(q,prime))).polynomial)\n",
    "    while M <= height\n",
    "        prime = Primes.prevprime(prime-1)\n",
    "        @assert prime>3\n",
    "        c_new = smallPoly(PolynomialModP(p,prime))*smallPoly(PolynomialModP(q,prime))\n",
    "        c = CRT(c,bigPoly(c_new.polynomial),M,prime)\n",
    "        M *= prime\n",
    "    end\n",
    "\n",
    "    return smod(c,M)\n",
    "end\n",
    "\n",
    "#define BigInt multiplication to use CRT by default\n",
    "*(a::PolynomialSparse{BigInt},b::PolynomialSparse{BigInt}) = crt_multiply(a,b)"
   ]
  },
  {
   "cell_type": "markdown",
   "metadata": {},
   "source": [
    "The obvious approach for choosing moduli is to start with the lowest prime, and then multiply subsequent primes until the product exceeds the required height. However, if we choose larger primes, then we do not need as many primes in order to reach the desired product. Thus, ideally we would start with the largest prime possible, and work downwards.\n",
    "\n",
    "But this poses a problem, because we need to ensure that our `Int64` multiplications do not overflow. Our primes therefore need to be small enough that all possible coefficients will fit within `typemax(Int64)=2^63-1`. A reasonable first guess would be $p_{\\text{max}} = 2^{31}$, since in this case the maximum coefficient of each factor will be reduced to less than $2^{31}$, and $(2^{31})^2=2^{62}<2^{63}-1$. However this fails to account for combination of like terms. In fact we already have an expression for the height of the product:\n",
    "\n",
    "$|fg| = 2|f||g|\\text{min}(\\text{length}(f),\\text{length}(g))$\n",
    "\n",
    "We know that when reduced modulo p, $|f|<p$ and $|g|<p$, so we wish to solve:\n",
    "\n",
    "$2p_\\text{max}^2\\text{min}(\\text{length}(f),\\text{length}(g))<2^{63}-1$\n",
    "\n",
    "$p_\\text{max}<\\sqrt{\\frac{2^{62}}{\\text{min}(\\text{length}(f),\\text{length}(g))}}$\n",
    "\n",
    "If we start at the largest prime below this number, and work downwards, then the coefficients are guaranteed to fit within `Int64`. This gives the least possible number of primes required, whilst avoiding overflows. The `Primes` module has a `prevprime` function, which allows us to get the next highest available prime at each iteration. The loop will stop once the product of the primes is sufficiently large - in order for this to work the product needs to be a `BigInt`. It is possible that we could run out of primes, so at each iteration we check that $p>3$, but this would require ridiculously large coefficients.\n",
    "\n",
    "The final step is to use the symmetric mod function to restore negative coefficients. The `smod` function is implemented as follows:"
   ]
  },
  {
   "cell_type": "code",
   "execution_count": null,
   "metadata": {},
   "outputs": [],
   "source": [
    "smod(a::Integer,b::Integer) = mod(a,b) > b÷2 ? mod(a,b) - b : mod(a,b) #for integers\n",
    "\n",
    "smod(t::Term, p::Integer) = Term(smod(t.coeff,p), t.degree) #for terms\n",
    "\n",
    "function smod(f::Polynomial, p::Integer)::Polynomial #for polynomials\n",
    "    f_out = copyTerms(f)\n",
    "    for i in 1:length(f_out.terms)\n",
    "        f_out.terms[i] = smod(f_out.terms[i], p)\n",
    "    end\n",
    "    return trim!(f_out)\n",
    "end"
   ]
  },
  {
   "cell_type": "markdown",
   "metadata": {},
   "source": [
    "We can now verify that CRT multiplication gives the correct answer, by checking against regular `BigInt` multiplication (with coefficients on the order of $2^{512}$):"
   ]
  },
  {
   "cell_type": "code",
   "execution_count": 28,
   "metadata": {},
   "outputs": [
    {
     "name": "stdout",
     "output_type": "stream",
     "text": [
      "Verifying CRT:\n",
      "....................................................................................................\n",
      "verify_crt - PASSED\n"
     ]
    }
   ],
   "source": [
    "function slow_mult(p1::Polynomial, p2::Polynomial)::Polynomial\n",
    "    p_out = typeof(p1)()\n",
    "    for t in p1\n",
    "        new_summand = (t * p2)\n",
    "        p_out = add!(p_out, new_summand)\n",
    "    end\n",
    "    return p_out\n",
    "end\n",
    "\n",
    "function verify_crt(;N::Int = 100, seed::Int = 0, verbose::Bool = true, mean_deg::Float64 = 100., power::Int=512)\n",
    "    Random.seed!(seed)\n",
    "    verbose && println(\"Verifying CRT:\")\n",
    "    for _ in 1:N\n",
    "        p1 = rand(PolynomialSparse{BigInt},max_coeff=big(2)^power,mean_degree=mean_deg)\n",
    "        p2 = rand(PolynomialSparse{BigInt},max_coeff=big(2)^power,mean_degree=mean_deg)\n",
    "        prod = crt_multiply(p1,p2)\n",
    "        @assert prod == slow_mult(p1,p2)\n",
    "        verbose && print(\".\")\n",
    "    end\n",
    "    verbose && println(\"\\nverify_crt - PASSED\")\n",
    "    nothing\n",
    "end\n",
    "\n",
    "verify_crt()"
   ]
  },
  {
   "cell_type": "markdown",
   "metadata": {},
   "source": [
    "It remains to compare performance of the two methods. Initially, my CRT method was roughly an order of magnitude slower than regular multiplication. It turns out the limiting factor for multiplication was addition of polynomials, which originally involved copying the polynomial multiple times with `deepcopy`. I thus implemented a custom copy function for polynomials, copyTerms, which is faster. Importantly, copyTerms passes flags to the constructor which tells it not to sort or filter the terms, as they will already be sorted and non-zero:"
   ]
  },
  {
   "cell_type": "code",
   "execution_count": null,
   "metadata": {},
   "outputs": [],
   "source": [
    "copyTerms(p::Polynomial) = typeof(p)(copy(p.terms),sorting=false,filtering=false)"
   ]
  },
  {
   "cell_type": "markdown",
   "metadata": {},
   "source": [
    "The most important improvement, however, was to make addition of two polynomials inplace wherever possible. The inplace addition function `add!` looks like:"
   ]
  },
  {
   "cell_type": "code",
   "execution_count": null,
   "metadata": {},
   "outputs": [],
   "source": [
    "function add!(p1::PolynomialSparse, p2::PolynomialSparse)::PolynomialSparse\n",
    "    t1, t2 = length(p1),length(p2) #initialise pointers to the terms of p1 and p2\n",
    "    while t2 > 0\n",
    "        if t1 == 0\n",
    "            prepend!(p1.terms, p2.terms[1:t2])\n",
    "            break\n",
    "        end\n",
    "        if p1.terms[t1].degree > p2.terms[t2].degree\n",
    "            insert!(p1.terms,t1+1,p2.terms[t2])\n",
    "            t2 -= 1\n",
    "        elseif p1.terms[t1].degree < p2.terms[t2].degree\n",
    "            t1 -= 1\n",
    "        else\n",
    "            p1.terms[t1] += p2.terms[t2]\n",
    "            if iszero(p1.terms[t1])\n",
    "                deleteat!(p1.terms,t1)\n",
    "            end\n",
    "            t1 -= 1\n",
    "            t2 -= 1\n",
    "        end\n",
    "    end\n",
    "    return p1\n",
    "end"
   ]
  },
  {
   "cell_type": "markdown",
   "metadata": {},
   "source": [
    "This is a significant improvement over adding each term separately, since not only does it not require instantiating many new polynomial objects, but it does not need to search for the index at which to add each term. We can exploit the fact that both lists of terms are sorted in order to move two pointers through each array, in only one direction.\n",
    "\n",
    "We can thus compare multiplication performance of the two methods, using the following functions. These are essentially analogous to the original polynomial product test - the versions presented here do not include chained multiplication, but the functions in crt_multiply_test.jl provide it optionally."
   ]
  },
  {
   "cell_type": "code",
   "execution_count": 29,
   "metadata": {},
   "outputs": [
    {
     "data": {
      "text/plain": [
       "crt_prod_test (generic function with 1 method)"
      ]
     },
     "execution_count": 29,
     "metadata": {},
     "output_type": "execute_result"
    }
   ],
   "source": [
    "function slow_prod_test(;N::Int = 10, seed::Int = 0, verbose::Bool = true, deg::Int = 5000,power::Int=512)\n",
    "    Random.seed!(seed)\n",
    "    verbose && println(\"Multiplying pairs:\")\n",
    "    for _ in 1:N\n",
    "        p1 = rand(PolynomialSparse{BigInt},max_coeff=big(2)^power,degree=def)\n",
    "        p2 = rand(PolynomialSparse{BigInt},max_coeff=big(2)^power,degree=def)\n",
    "        prod = slow_mult(p1,p2)\n",
    "        @assert leading(prod) == leading(p1)*leading(p2)\n",
    "        verbose && print(\".\")\n",
    "    end\n",
    "    verbose && println(\"\\nslow_prod_test - PASSED\")\n",
    "    nothing\n",
    "end\n",
    "\n",
    "function crt_prod_test(;N::Int = 10, seed::Int = 0, verbose::Bool = true, deg::Int = 5000, power::Int=512)\n",
    "    Random.seed!(seed)\n",
    "    verbose && println(\"Multiplying pairs:\")\n",
    "    for _ in 1:N\n",
    "        p1 = rand(PolynomialSparse{BigInt},max_coeff=big(2)^power,degree=deg)\n",
    "        p2 = rand(PolynomialSparse{BigInt},max_coeff=big(2)^power,degree=deg)\n",
    "        prod = crt_multiply(p1,p2)\n",
    "        @assert leading(prod) == leading(p1)*leading(p2)\n",
    "        verbose && print(\".\")\n",
    "    end\n",
    "    verbose && println(\"\\ncrt_prod_test - PASSED\")\n",
    "    nothing\n",
    "end"
   ]
  },
  {
   "cell_type": "code",
   "execution_count": 30,
   "metadata": {},
   "outputs": [
    {
     "name": "stdout",
     "output_type": "stream",
     "text": [
      "Multiplying pairs:\n",
      "..........\n",
      "slow_prod_test - PASSED\n",
      "Multiplying pairs:\n",
      "..........\n",
      "slow_prod_test - PASSED\n",
      "Multiplying pairs:\n",
      "..........\n",
      "slow_prod_test - PASSED\n",
      "Multiplying pairs:\n",
      "..........\n",
      "slow_prod_test - PASSED\n",
      "  76.132 s (601408984 allocations: 40.21 GiB)\n",
      "Multiplying pairs:\n",
      "..........\n",
      "crt_prod_test - PASSED\n",
      "Multiplying pairs:\n",
      "..........\n",
      "crt_prod_test - PASSED\n",
      "Multiplying pairs:\n",
      "..........\n",
      "crt_prod_test - PASSED\n",
      "Multiplying pairs:\n",
      "..........\n",
      "crt_prod_test - PASSED\n",
      "  39.019 s (127126635 allocations: 80.15 GiB)\n"
     ]
    }
   ],
   "source": [
    "using BenchmarkTools\n",
    "\n",
    "@btime slow_prod_test()\n",
    "\n",
    "@btime crt_prod_test()"
   ]
  },
  {
   "cell_type": "markdown",
   "metadata": {},
   "source": [
    "The results of this test demonstrate that when multiplying 10 random pairs of polynomials of length 5000, with coefficients on the order of $2^{512}$, the CRT product is about 2 times faster. This result is consistent across many different experiments - when multiplying a polynomial with 10 000 terms, the original method takes about 28 seconds, and CRT multiplication takes 15 seconds. However, CRT multiplication uses consistently around twice the amount of total memory compared to the original implementation."
   ]
  },
  {
   "cell_type": "markdown",
   "metadata": {},
   "source": [
    "## Factorisation mod p and improved exponentiation\n",
    "\n",
    "The original exponentiation works via repeated multiplication. This is not very efficient if we want to calculate large powers. We can improve the efficiency by repeatedly squaring the product, and then summing these powers of two over the binary representation of n: "
   ]
  },
  {
   "cell_type": "code",
   "execution_count": 31,
   "metadata": {},
   "outputs": [
    {
     "data": {
      "text/plain": [
       "^ (generic function with 70 methods)"
      ]
     },
     "execution_count": 31,
     "metadata": {},
     "output_type": "execute_result"
    }
   ],
   "source": [
    "function ^(p::Union{Polynomial,PolynomialModP}, n::Int)\n",
    "    max_power = floor(Int, log2(n))\n",
    "    powers::Vector{typeof(p)} = [p] #p^1, p^2, p^4, p^8, p^16, ...\n",
    "    for i in 1:max_power\n",
    "        powers = push!(powers, powers[end]*powers[end])\n",
    "    end\n",
    "    out = one(p)\n",
    "    for i in 0:max_power\n",
    "        if n & (1 << i) != 0 #if n has a 1 in the ith bit\n",
    "            out*=powers[i+1]\n",
    "        end\n",
    "    end\n",
    "    return out\n",
    "end"
   ]
  },
  {
   "cell_type": "markdown",
   "metadata": {},
   "source": [
    "Note that this function works for both `Polynomial` and `PolynomialModP`. Since `pow_mod` already uses exponentiation of `PolynomialModP`, we do not need to rewrite `pow_mod` in order to take advantage of the increased efficiency. Testing this function against repeated multiplication:"
   ]
  },
  {
   "cell_type": "code",
   "execution_count": 43,
   "metadata": {},
   "outputs": [
    {
     "name": "stdout",
     "output_type": "stream",
     "text": [
      "Passed exponentiation test!\n",
      "Passed exponentiation test!\n"
     ]
    }
   ],
   "source": [
    "function old_exp(p::Union{Polynomial,PolynomialModP}, n::Int)\n",
    "    prod = one(p)\n",
    "    for _ in 1:n\n",
    "        prod *= p\n",
    "    end\n",
    "    return prod\n",
    "end\n",
    "\n",
    "function test_exp(T)\n",
    "    for _ in 1:100\n",
    "        p = rand(T)\n",
    "        n = rand(1:50)\n",
    "        @assert p^n == old_exp(p, n)\n",
    "    end\n",
    "    println(\"Passed exponentiation test!\")\n",
    "end\n",
    "\n",
    "function test_exp_modp(T)\n",
    "    for _ in 1:100\n",
    "        p = rand_modp(T,17)\n",
    "        n = rand(1:50)\n",
    "        @assert p^n == old_exp(p, n)\n",
    "    end\n",
    "    println(\"Passed exponentiation test!\")\n",
    "end\n",
    "\n",
    "test_exp(PolynomialSparse{BigInt})\n",
    "test_exp_modp(PolynomialSparse{BigInt})"
   ]
  },
  {
   "cell_type": "code",
   "execution_count": 46,
   "metadata": {},
   "outputs": [
    {
     "name": "stdout",
     "output_type": "stream",
     "text": [
      "  108.540 ms (995354 allocations: 90.72 MiB)\n",
      "  1.872 s (18428528 allocations: 688.92 MiB)\n"
     ]
    }
   ],
   "source": [
    "p = rand(PolynomialSparse{BigInt})\n",
    "@btime p^100;\n",
    "@btime old_exp(p,100);"
   ]
  },
  {
   "cell_type": "markdown",
   "metadata": {},
   "source": [
    "We can rewrite the factorisation algorithm to use `PolynomialModP`. The full code is included in factorModP.jl, and is not included here as it is very similar to the original factorisation algorithm. We can then also define factorisation for regular polynomials to use factorisation mod p:"
   ]
  },
  {
   "cell_type": "code",
   "execution_count": null,
   "metadata": {},
   "outputs": [],
   "source": [
    "function factor(f::Polynomial,prime::Int)::Vector{Tuple{Polynomial,Integer}}\n",
    "    factorisation = factor(PolynomialModP(f, prime))\n",
    "    return [(p.polynomial, m) for (p,m) in factorisation]\n",
    "end"
   ]
  },
  {
   "cell_type": "markdown",
   "metadata": {},
   "source": [
    "To assist with benchmarking the factorisation algorithm, we create a new function, `get_reducible_poly` which generates a polynomial from a set of random factors of various degrees. We therefore know what the factorisation of a particular polynomial should be:"
   ]
  },
  {
   "cell_type": "code",
   "execution_count": null,
   "metadata": {},
   "outputs": [],
   "source": [
    "function get_reducible_poly(T::Type{<:Polynomial},degree::Int,prime::Int,max_coeff::Integer)::PolynomialModP\n",
    "    factors = []\n",
    "    total_degree = 0\n",
    "    n = 1\n",
    "    while total_degree<degree\n",
    "        push!(factors,rand_modp(T,prime,degree=n,max_coeff = max_coeff))\n",
    "        total_degree += n\n",
    "        n += 1\n",
    "    end\n",
    "    p=factors[1]\n",
    "    for i in 2:length(factors)\n",
    "        p *= factors[i]\n",
    "    end\n",
    "    return p\n",
    "end"
   ]
  },
  {
   "cell_type": "markdown",
   "metadata": {},
   "source": [
    "Using this function, we can create a factorisation test which generates a database of random problems (other tests are included in factorization_test.jl). Interestingly, most of the computation time is spent on just one or two of the randomly generated polynomials - most of them are very fast, but some take a very long time."
   ]
  },
  {
   "cell_type": "code",
   "execution_count": 55,
   "metadata": {},
   "outputs": [
    {
     "name": "stdout",
     "output_type": "stream",
     "text": [
      "\n",
      "doing prime = 23 \t..........\n",
      "doing prime = 29 \t..........\n",
      "doing prime = 31 \t..........\n",
      "doing prime = 37 \t..........\n",
      "factor_test_poly2 - PASSED\n"
     ]
    }
   ],
   "source": [
    "function factor_test_poly2(T::Type{<:Polynomial};N::Int = 10, seed::Int = 0, N_primes::Int=100,lowest_prime::Int = 19,degree::Int = 10,max_coeff::Integer = 10000)\n",
    "    \n",
    "    if length(T.parameters) > 0\n",
    "        max_coeff = T.parameters[1](max_coeff)\n",
    "    end\n",
    "    \n",
    "    Random.seed!(seed)\n",
    "    prime = lowest_prime\n",
    "    for _ in 1:N_primes\n",
    "        prime = Primes.nextprime(prime+1)\n",
    "        print(\"\\ndoing prime = $prime \\t\")\n",
    "        for _ in 1:N\n",
    "            p = get_reducible_poly(T,degree,prime,max_coeff)\n",
    "            factorization = factor(p)\n",
    "            pr = expand_factorization(factorization)\n",
    "            @assert p == pr\n",
    "            print(\".\")\n",
    "        end\n",
    "    end\n",
    "\n",
    "    println(\"\\nfactor_test_poly2 - PASSED\")\n",
    "end\n",
    "\n",
    "factor_test_poly2(PolynomialSparse{Int},N=10,N_primes=4)"
   ]
  },
  {
   "cell_type": "markdown",
   "metadata": {},
   "source": [
    "When testing with random polynomials (of length ~40 terms), I found the behaviour of the factorisation algorithm to be quite unpredictable. For some polynomials it would complete very quickly, but for other polynomials it would not finish within 5 minutes, and I would end up killing it. The algorithm often gets stuck dividing extremely large polynomials within the `dd_split` function - particularly for large primes. The following polynomial is reasonably large, and takes around 44.5 seconds to factor on my machine. However, the following polynomial is a similar size, but takes only about 2 seconds to factor."
   ]
  },
  {
   "cell_type": "code",
   "execution_count": 56,
   "metadata": {},
   "outputs": [
    {
     "name": "stdout",
     "output_type": "stream",
     "text": [
      " 43.458090 seconds (5.37 M allocations: 307.784 GiB, 7.15% gc time, 0.26% compilation time)\n"
     ]
    },
    {
     "data": {
      "text/plain": [
       "15-element Vector{Tuple{PolynomialModP, Integer}}:\n",
       " (x+9 (mod 31), 1)\n",
       " (x+18 (mod 31), 1)\n",
       " (x+5 (mod 31), 1)\n",
       " (x (mod 31), 1)\n",
       " (x+21 (mod 31), 2)\n",
       " (x+1 (mod 31), 1)\n",
       " (x^2+12x+25 (mod 31), 1)\n",
       " (x^2+18 (mod 31), 1)\n",
       " (x^3+22x^2+18x+9 (mod 31), 1)\n",
       " (x^3+21x^2+10x+7 (mod 31), 1)\n",
       " (x^5+22x^4+7x^3+15x^2+8x+16 (mod 31), 1)\n",
       " (x^6+6x^5+17x^4+20x^3+x^2+23x+9 (mod 31), 1)\n",
       " (x^7+x^6+22x^5+6x^4+20x^3+14x^2+20x+28 (mod 31), 1)\n",
       " (x^9+x^8+3x^7+18x^5+5x^3+18x^2+12 (mod 31), 1)\n",
       " (4 (mod 31), 1)"
      ]
     },
     "execution_count": 56,
     "metadata": {},
     "output_type": "execute_result"
    }
   ],
   "source": [
    "x = x_poly_modp(PolynomialSparse,31)\n",
    "p = 4x^44+20x^43+23x^42+3x^41+29x^40+7x^39+x^38+22x^37+4x^36+21x^35+20x^34+13x^33+21x^32+5x^31+x^30+15x^29+2x^28+14x^27+15x^25+18x^24+5x^23+27x^22+7x^21+17x^20+19x^19+17x^18+30x^17+13x^16+4x^15+21x^14+8x^13+19x^12+23x^11+7x^10+14x^9+18x^8+21x^7+3x^6+24x^5+17x^4+21x^3+9x^2+11x\n",
    "@time factor(p)\n",
    "\n",
    "x = x_poly_modp(PolynomialSparse,17)\n",
    "q = 9x^45+8x^44+9x^43+6x^42+11x^41+4x^40+15x^39+15x^38+8x^37+2x^36+14x^35+5x^34+x^33+10x^31+x^30+10x^29+x^28+8x^27+11x^26+2x^25+12x^24+2x^23+5x^22+16x^20+10x^19+6x^18+10x^17+9x^15+12x^14+10x^13+5x^12+16x^11+4x^10+4x^8+10x^7+12x^6+16x^5\n",
    "@time factor(q)"
   ]
  }
 ],
 "metadata": {
  "kernelspec": {
   "display_name": "Julia 1.7.3",
   "language": "julia",
   "name": "julia-1.7"
  },
  "language_info": {
   "file_extension": ".jl",
   "mimetype": "application/julia",
   "name": "julia",
   "version": "1.7.3"
  },
  "orig_nbformat": 4
 },
 "nbformat": 4,
 "nbformat_minor": 2
}
